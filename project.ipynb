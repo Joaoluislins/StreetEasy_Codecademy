{
  "nbformat": 4,
  "nbformat_minor": 0,
  "metadata": {
    "colab": {
      "name": "StreetEasy_Codecademy_project.ipynb",
      "provenance": [],
      "collapsed_sections": [],
      "authorship_tag": "ABX9TyM6HV74mJfFOZVbPY9EN+JL",
      "include_colab_link": true
    },
    "kernelspec": {
      "name": "python3",
      "display_name": "Python 3"
    },
    "language_info": {
      "name": "python"
    }
  },
  "cells": [
    {
      "cell_type": "markdown",
      "metadata": {
        "id": "view-in-github",
        "colab_type": "text"
      },
      "source": [
        "<a href=\"https://colab.research.google.com/github/Joaoluislins/StreetEasy_Codecademy_project/blob/main/project.ipynb\" target=\"_parent\"><img src=\"https://colab.research.google.com/assets/colab-badge.svg\" alt=\"Open In Colab\"/></a>"
      ]
    },
    {
      "cell_type": "markdown",
      "metadata": {
        "id": "nR65nSEChPZp"
      },
      "source": [
        "## **Codecademy + StreetEasy**\n",
        "\n",
        "This is a project built as part of the Data Scientist Career Certification, provided by Codecademy. It's a partnership between StreetEasy and Codecademy to provide a real business case study.\n",
        "\n",
        "StreetEasy is New York City's leading real estate marketplace — from studios to high-rises, Brooklyn Heights to Harlem.\n",
        "\n",
        "The objective here is to apply Multiple Linear Regression (MLR), working with a .csv file that contains a sample of 5,000 rentals listings in Manhattan, Brooklyn, and Queens, active on StreetEasy in June 2016.\n",
        "\n",
        "---\n",
        "\n"
      ]
    },
    {
      "cell_type": "markdown",
      "metadata": {
        "id": "T1Lz5_L9o3yO"
      },
      "source": [
        "### Importing libraries and data\n",
        "\n",
        "\n",
        "\n",
        "\n",
        "\n",
        "\n",
        "\n"
      ]
    },
    {
      "cell_type": "code",
      "metadata": {
        "colab": {
          "base_uri": "https://localhost:8080/"
        },
        "id": "wGKbv2tOgJTH",
        "outputId": "3e8426f1-337d-4946-a978-f74f37432bb8"
      },
      "source": [
        "import seaborn\n",
        "import pandas as pd\n",
        "from sklearn.model_selection import train_test_split\n",
        "from sklearn.linear_model import LinearRegression\n",
        "import matplotlib.pyplot as plt\n",
        "\n",
        "manhattan_streeteasy = pd.read_csv('https://raw.githubusercontent.com/Codecademy/datasets/master/streeteasy/manhattan.csv')\n",
        "\n",
        "manhattan_streeteasy.info() ### Taking a first look into the data structure ###"
      ],
      "execution_count": null,
      "outputs": [
        {
          "output_type": "stream",
          "text": [
            "<class 'pandas.core.frame.DataFrame'>\n",
            "RangeIndex: 3539 entries, 0 to 3538\n",
            "Data columns (total 18 columns):\n",
            " #   Column            Non-Null Count  Dtype  \n",
            "---  ------            --------------  -----  \n",
            " 0   rental_id         3539 non-null   int64  \n",
            " 1   rent              3539 non-null   int64  \n",
            " 2   bedrooms          3539 non-null   float64\n",
            " 3   bathrooms         3539 non-null   int64  \n",
            " 4   size_sqft         3539 non-null   int64  \n",
            " 5   min_to_subway     3539 non-null   int64  \n",
            " 6   floor             3539 non-null   float64\n",
            " 7   building_age_yrs  3539 non-null   int64  \n",
            " 8   no_fee            3539 non-null   int64  \n",
            " 9   has_roofdeck      3539 non-null   int64  \n",
            " 10  has_washer_dryer  3539 non-null   int64  \n",
            " 11  has_doorman       3539 non-null   int64  \n",
            " 12  has_elevator      3539 non-null   int64  \n",
            " 13  has_dishwasher    3539 non-null   int64  \n",
            " 14  has_patio         3539 non-null   int64  \n",
            " 15  has_gym           3539 non-null   int64  \n",
            " 16  neighborhood      3539 non-null   object \n",
            " 17  borough           3539 non-null   object \n",
            "dtypes: float64(2), int64(14), object(2)\n",
            "memory usage: 497.8+ KB\n"
          ],
          "name": "stdout"
        }
      ]
    },
    {
      "cell_type": "markdown",
      "metadata": {
        "id": "tPB7J8IB1OK7"
      },
      "source": [
        "### Creating the training and test sets\n",
        "Considering 14 features and 1 label:"
      ]
    },
    {
      "cell_type": "code",
      "metadata": {
        "colab": {
          "base_uri": "https://localhost:8080/"
        },
        "id": "FhCvTNpF8XDW",
        "outputId": "bbb0face-60ed-4831-8a84-80fac054f5e6"
      },
      "source": [
        "### x consists of 14 feat.###\n",
        "x = manhattan_streeteasy[['bedrooms',\n",
        "'bathrooms',\n",
        "'size_sqft',\n",
        "'min_to_subway',\n",
        "'floor',\n",
        "'building_age_yrs',\n",
        "'no_fee',\n",
        "'has_roofdeck',\n",
        "'has_washer_dryer',\n",
        "'has_doorman',\n",
        "'has_elevator',\n",
        "'has_dishwasher',\n",
        "'has_patio',\n",
        "'has_gym']]\n",
        "\n",
        "### y consists of 1 label ###\n",
        "y = manhattan_streeteasy[['rent']]\n",
        "\n",
        "### Creating the train/test sets ###\n",
        "x_train, x_test, y_train, y_test = train_test_split(x, y, train_size = 0.8, test_size = 0.2, random_state = 6)\n",
        "\n",
        "### Checking the sets ###\n",
        "print(x_train.shape)\n",
        "print(x_test.shape)\n",
        "print(y_train.shape)\n",
        "print(y_test.shape)"
      ],
      "execution_count": null,
      "outputs": [
        {
          "output_type": "stream",
          "text": [
            "(2831, 14)\n",
            "(708, 14)\n",
            "(2831, 1)\n",
            "(708, 1)\n"
          ],
          "name": "stdout"
        }
      ]
    },
    {
      "cell_type": "markdown",
      "metadata": {
        "id": "a8WNd1tPzwqn"
      },
      "source": [
        "### Creating and fitting the Model"
      ]
    },
    {
      "cell_type": "code",
      "metadata": {
        "colab": {
          "base_uri": "https://localhost:8080/"
        },
        "id": "la_LCRPV9_Uy",
        "outputId": "4420d253-2cc6-4ab5-be1a-047eee8a1569"
      },
      "source": [
        "apt_mlr = LinearRegression()\n",
        "apt_mlr.fit(x_train, y_train) ### Training the model with our data ###\n",
        "apt_predict = apt_mlr.predict(x_test) ### Using our model to predict apt prices with the test set ###\n",
        "\n",
        "\n",
        "sonny_apt = [[1, 1, 620, 16, 1, 98, 1, 0, 1, 0, 0, 1, 1, 0]]\n",
        "sonny_price = apt_mlr.predict(sonny_apt)\n",
        "sonny_price"
      ],
      "execution_count": null,
      "outputs": [
        {
          "output_type": "execute_result",
          "data": {
            "text/plain": [
              "array([[2393.58059075]])"
            ]
          },
          "metadata": {
            "tags": []
          },
          "execution_count": 7
        }
      ]
    },
    {
      "cell_type": "markdown",
      "metadata": {
        "id": "7Bcg5sRKCKSC"
      },
      "source": [
        "### Model's accuracy\n",
        "\n",
        "Utilizing the Residual Analysis concept, we can extract the coefficient determination from the model. The result, 80%, means that 80% of the variation in the actual price can be explained by the combination of features chosen in this model.\n",
        "\n",
        "Plotting actual prices vs predicted prices facilitates the analysis between the actual apartment prices data and the predicted prices that resulted as outputs from our model for those same apartments."
      ]
    },
    {
      "cell_type": "code",
      "metadata": {
        "colab": {
          "base_uri": "https://localhost:8080/",
          "height": 329
        },
        "id": "PmZ7vtRkCdpQ",
        "outputId": "a90419bc-9beb-43a3-b863-3d59bb5e7263"
      },
      "source": [
        "print('Coefficient determination for this model is:', apt_mlr.score(x_test, y_test))\n",
        "print('')\n",
        "plt.scatter(y_test, apt_predict, alpha = 0.6)\n",
        "plt.xlabel('Actual prices')\n",
        "plt.ylabel('Predicted prices')\n",
        "plt.title('Model accuracy for predicting apartment prices')\n",
        "plt.show()"
      ],
      "execution_count": null,
      "outputs": [
        {
          "output_type": "stream",
          "text": [
            "Coefficient determination for this model is: 0.8050371975357646\n",
            "\n"
          ],
          "name": "stdout"
        },
        {
          "output_type": "display_data",
          "data": {
            "image/png": "[encoded data removed]",
            "text/plain": [
              "<Figure size 432x288 with 1 Axes>"
            ]
          },
          "metadata": {
            "tags": [],
            "needs_background": "light"
          }
        }
      ]
    },
    {
      "cell_type": "markdown",
      "metadata": {
        "id": "96Fj1IFvfOfc"
      },
      "source": [
        "### Analizing feature's influence on the apt price\n",
        "\n",
        "How and how much influence each apt feature has on the price?\n",
        "By extracting the model's coefficient of each feature and plotting them on a bar graph, we can infer some relations they play on the apartment price."
      ]
    },
    {
      "cell_type": "code",
      "metadata": {
        "colab": {
          "base_uri": "https://localhost:8080/",
          "height": 99
        },
        "id": "HV37ET65hVcN",
        "outputId": "99a30f41-a201-4324-b57c-dd170cd9d69e"
      },
      "source": [
        "### Creating a DataFrame out of the coefficients ###\n",
        "feat_coef = pd.DataFrame(apt_mlr.coef_, columns = ['bedrooms',\n",
        "'bathrooms',\n",
        "'size_sqft',\n",
        "'min_to_subway',\n",
        "'floor',\n",
        "'building_age_yrs',\n",
        "'no_fee',\n",
        "'has_roofdeck',\n",
        "'has_washer_dryer',\n",
        "'has_doorman',\n",
        "'has_elevator',\n",
        "'has_dishwasher',\n",
        "'has_patio',\n",
        "'has_gym'])\n",
        "feat_coef\n"
      ],
      "execution_count": null,
      "outputs": [
        {
          "output_type": "execute_result",
          "data": {
            "text/html": [
              "<div>\n",
              "<style scoped>\n",
              "    .dataframe tbody tr th:only-of-type {\n",
              "        vertical-align: middle;\n",
              "    }\n",
              "\n",
              "    .dataframe tbody tr th {\n",
              "        vertical-align: top;\n",
              "    }\n",
              "\n",
              "    .dataframe thead th {\n",
              "        text-align: right;\n",
              "    }\n",
              "</style>\n",
              "<table border=\"1\" class=\"dataframe\">\n",
              "  <thead>\n",
              "    <tr style=\"text-align: right;\">\n",
              "      <th></th>\n",
              "      <th>bedrooms</th>\n",
              "      <th>bathrooms</th>\n",
              "      <th>size_sqft</th>\n",
              "      <th>min_to_subway</th>\n",
              "      <th>floor</th>\n",
              "      <th>building_age_yrs</th>\n",
              "      <th>no_fee</th>\n",
              "      <th>has_roofdeck</th>\n",
              "      <th>has_washer_dryer</th>\n",
              "      <th>has_doorman</th>\n",
              "      <th>has_elevator</th>\n",
              "      <th>has_dishwasher</th>\n",
              "      <th>has_patio</th>\n",
              "      <th>has_gym</th>\n",
              "    </tr>\n",
              "  </thead>\n",
              "  <tbody>\n",
              "    <tr>\n",
              "      <th>0</th>\n",
              "      <td>-302.730094</td>\n",
              "      <td>1199.385995</td>\n",
              "      <td>4.799767</td>\n",
              "      <td>-24.289932</td>\n",
              "      <td>24.198242</td>\n",
              "      <td>-7.582725</td>\n",
              "      <td>-140.906648</td>\n",
              "      <td>48.850174</td>\n",
              "      <td>191.425732</td>\n",
              "      <td>-151.114534</td>\n",
              "      <td>89.408889</td>\n",
              "      <td>-57.897146</td>\n",
              "      <td>-19.319486</td>\n",
              "      <td>-38.923698</td>\n",
              "    </tr>\n",
              "  </tbody>\n",
              "</table>\n",
              "</div>"
            ],
            "text/plain": [
              "     bedrooms    bathrooms  size_sqft  ...  has_dishwasher  has_patio    has_gym\n",
              "0 -302.730094  1199.385995   4.799767  ...      -57.897146 -19.319486 -38.923698\n",
              "\n",
              "[1 rows x 14 columns]"
            ]
          },
          "metadata": {
            "tags": []
          },
          "execution_count": 32
        }
      ]
    },
    {
      "cell_type": "code",
      "metadata": {
        "colab": {
          "base_uri": "https://localhost:8080/",
          "height": 279
        },
        "id": "5KrT9MWrjRkV",
        "outputId": "95432e0c-d1e0-46c7-e67a-f9fab2fa9865"
      },
      "source": [
        "plt.close('all')\n",
        "feat_coef.plot.bar() ### Plotting the coefficients to vizualyze their influence ###"
      ],
      "execution_count": null,
      "outputs": [
        {
          "output_type": "execute_result",
          "data": {
            "text/plain": [
              "<matplotlib.axes._subplots.AxesSubplot at 0x7fb57fd52690>"
            ]
          },
          "metadata": {
            "tags": []
          },
          "execution_count": 31
        },
        {
          "output_type": "display_data",
          "data": {
            "image/png": "[encoded data removed]",
            "text/plain": [
              "<Figure size 432x288 with 1 Axes>"
            ]
          },
          "metadata": {
            "tags": [],
            "needs_background": "light"
          }
        }
      ]
    },
    {
      "cell_type": "markdown",
      "metadata": {
        "id": "XN9Td2S2fYqK"
      },
      "source": [
        ""
      ]
    }
  ]
}